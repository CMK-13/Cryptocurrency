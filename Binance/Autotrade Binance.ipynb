{
 "cells": [
  {
   "cell_type": "code",
   "execution_count": 1,
   "metadata": {},
   "outputs": [],
   "source": [
    "from binance.spot import Spot\n",
    "import pandas as pd\n",
    "import requests\n",
    "import math\n",
    "\n",
    "api_key = \"WVDAJGRZSOaXmeh94MA1b1pqYLbkvudD0iHTgGPNxu4PYEKQD4SHcFAt3ZQPdFHG\"\n",
    "api_secret = \"o6DnBjwXkY0psTVHbxI8ipZZdeaW4dIWuEqbukbs7FFPQ9z8aps9BOsopiNNsHP1\"\n",
    "\n",
    "\n",
    "client = Spot(api_key=api_key, api_secret=api_secret)\n",
    "\n",
    "def get_balance_account():\n",
    "\n",
    "    def get_asset_price(asset):\n",
    "        url = f'https://api.binance.com/api/v3/ticker/price?symbol={asset}USDT'\n",
    "        response = requests.get(url)\n",
    "        data = response.json()\n",
    "        return float(data.get('price', 0))\n",
    "\n",
    "    data = client.account()\n",
    "    balances = data['balances']\n",
    "    rows = []\n",
    "    for balance in balances:\n",
    "        free_balance = round(float(balance['free']), 4)\n",
    "        if free_balance > 0:\n",
    "            asset = balance['asset']\n",
    "            try:\n",
    "                price = get_asset_price(asset.replace(\"LD\",\"\")) \n",
    "                value = round(free_balance * price, 2)  \n",
    "            except Exception as e:\n",
    "                print(f\"Error fetching price for {asset}: {e}\")\n",
    "                price = 0\n",
    "                value = 0\n",
    "            row = {\n",
    "                'Mã Token': asset,\n",
    "                'Số lượng token': free_balance,\n",
    "                'Giá trị $': value  \n",
    "            }\n",
    "            rows.append(row)\n",
    "    balances_df = pd.DataFrame(rows)\n",
    "    return balances_df\n",
    "\n"
   ]
  },
  {
   "cell_type": "code",
   "execution_count": 2,
   "metadata": {},
   "outputs": [
    {
     "ename": "ClientError",
     "evalue": "(401, -2015, 'Invalid API-key, IP, or permissions for action.', {'Content-Type': 'application/json;charset=UTF-8', 'Content-Length': '70', 'Connection': 'keep-alive', 'Date': 'Wed, 31 Jul 2024 13:46:56 GMT', 'Server': 'nginx', 'x-mbx-uuid': '99e494c2-35a8-461a-b145-c0c93cae1cd8', 'x-mbx-used-weight': '342', 'x-mbx-used-weight-1m': '342', 'Strict-Transport-Security': 'max-age=31536000; includeSubdomains', 'X-Frame-Options': 'SAMEORIGIN', 'X-Xss-Protection': '1; mode=block', 'X-Content-Type-Options': 'nosniff', 'Content-Security-Policy': \"default-src 'self'\", 'X-Content-Security-Policy': \"default-src 'self'\", 'X-WebKit-CSP': \"default-src 'self'\", 'Cache-Control': 'no-cache, no-store, must-revalidate', 'Pragma': 'no-cache', 'Expires': '0', 'X-Cache': 'Error from cloudfront', 'Via': '1.1 1d7fb40804b60d5a9f4cfe1063c9fa1a.cloudfront.net (CloudFront)', 'X-Amz-Cf-Pop': 'HKG54-P1', 'X-Amz-Cf-Id': 'R7KWe8Llu2mq0-GNsczS4uY0hpnW-kYs9ayBkP-63GMFAnqyUoFI9Q=='}, None)",
     "output_type": "error",
     "traceback": [
      "\u001b[1;31m---------------------------------------------------------------------------\u001b[0m",
      "\u001b[1;31mClientError\u001b[0m                               Traceback (most recent call last)",
      "Cell \u001b[1;32mIn[2], line 1\u001b[0m\n\u001b[1;32m----> 1\u001b[0m \u001b[39mprint\u001b[39m(get_balance_account())\n",
      "Cell \u001b[1;32mIn[1], line 20\u001b[0m, in \u001b[0;36mget_balance_account\u001b[1;34m()\u001b[0m\n\u001b[0;32m     17\u001b[0m     data \u001b[39m=\u001b[39m response\u001b[39m.\u001b[39mjson()\n\u001b[0;32m     18\u001b[0m     \u001b[39mreturn\u001b[39;00m \u001b[39mfloat\u001b[39m(data\u001b[39m.\u001b[39mget(\u001b[39m'\u001b[39m\u001b[39mprice\u001b[39m\u001b[39m'\u001b[39m, \u001b[39m0\u001b[39m))\n\u001b[1;32m---> 20\u001b[0m data \u001b[39m=\u001b[39m client\u001b[39m.\u001b[39;49maccount()\n\u001b[0;32m     21\u001b[0m balances \u001b[39m=\u001b[39m data[\u001b[39m'\u001b[39m\u001b[39mbalances\u001b[39m\u001b[39m'\u001b[39m]\n\u001b[0;32m     22\u001b[0m rows \u001b[39m=\u001b[39m []\n",
      "File \u001b[1;32mc:\\Users\\Admin\\OneDrive\\Desktop\\Binance\\binance\\spot\\_trade.py:591\u001b[0m, in \u001b[0;36maccount\u001b[1;34m(self, **kwargs)\u001b[0m\n\u001b[0;32m    577\u001b[0m \u001b[39m\u001b[39m\u001b[39m\"\"\"Account Information (USER_DATA)\u001b[39;00m\n\u001b[0;32m    578\u001b[0m \n\u001b[0;32m    579\u001b[0m \u001b[39mGet current account information\u001b[39;00m\n\u001b[1;32m   (...)\u001b[0m\n\u001b[0;32m    587\u001b[0m \u001b[39m    recvWindow (int, optional): The value cannot be greater than 60000\u001b[39;00m\n\u001b[0;32m    588\u001b[0m \u001b[39m\"\"\"\u001b[39;00m\n\u001b[0;32m    590\u001b[0m url_path \u001b[39m=\u001b[39m \u001b[39m\"\u001b[39m\u001b[39m/api/v3/account\u001b[39m\u001b[39m\"\u001b[39m\n\u001b[1;32m--> 591\u001b[0m \u001b[39mreturn\u001b[39;00m \u001b[39mself\u001b[39;49m\u001b[39m.\u001b[39;49msign_request(\u001b[39m\"\u001b[39;49m\u001b[39mGET\u001b[39;49m\u001b[39m\"\u001b[39;49m, url_path, {\u001b[39m*\u001b[39;49m\u001b[39m*\u001b[39;49mkwargs})\n",
      "File \u001b[1;32mc:\\Users\\Admin\\OneDrive\\Desktop\\Binance\\binance\\api.py:84\u001b[0m, in \u001b[0;36mAPI.sign_request\u001b[1;34m(self, http_method, url_path, payload)\u001b[0m\n\u001b[0;32m     82\u001b[0m query_string \u001b[39m=\u001b[39m \u001b[39mself\u001b[39m\u001b[39m.\u001b[39m_prepare_params(payload)\n\u001b[0;32m     83\u001b[0m payload[\u001b[39m\"\u001b[39m\u001b[39msignature\u001b[39m\u001b[39m\"\u001b[39m] \u001b[39m=\u001b[39m \u001b[39mself\u001b[39m\u001b[39m.\u001b[39m_get_sign(query_string)\n\u001b[1;32m---> 84\u001b[0m \u001b[39mreturn\u001b[39;00m \u001b[39mself\u001b[39;49m\u001b[39m.\u001b[39;49msend_request(http_method, url_path, payload)\n",
      "File \u001b[1;32mc:\\Users\\Admin\\OneDrive\\Desktop\\Binance\\binance\\api.py:119\u001b[0m, in \u001b[0;36mAPI.send_request\u001b[1;34m(self, http_method, url_path, payload)\u001b[0m\n\u001b[0;32m    117\u001b[0m response \u001b[39m=\u001b[39m \u001b[39mself\u001b[39m\u001b[39m.\u001b[39m_dispatch_request(http_method)(\u001b[39m*\u001b[39m\u001b[39m*\u001b[39mparams)\n\u001b[0;32m    118\u001b[0m \u001b[39mself\u001b[39m\u001b[39m.\u001b[39m_logger\u001b[39m.\u001b[39mdebug(\u001b[39m\"\u001b[39m\u001b[39mraw response from server:\u001b[39m\u001b[39m\"\u001b[39m \u001b[39m+\u001b[39m response\u001b[39m.\u001b[39mtext)\n\u001b[1;32m--> 119\u001b[0m \u001b[39mself\u001b[39;49m\u001b[39m.\u001b[39;49m_handle_exception(response)\n\u001b[0;32m    121\u001b[0m \u001b[39mtry\u001b[39;00m:\n\u001b[0;32m    122\u001b[0m     data \u001b[39m=\u001b[39m response\u001b[39m.\u001b[39mjson()\n",
      "File \u001b[1;32mc:\\Users\\Admin\\OneDrive\\Desktop\\Binance\\binance\\api.py:184\u001b[0m, in \u001b[0;36mAPI._handle_exception\u001b[1;34m(self, response)\u001b[0m\n\u001b[0;32m    182\u001b[0m     \u001b[39mif\u001b[39;00m \u001b[39m\"\u001b[39m\u001b[39mdata\u001b[39m\u001b[39m\"\u001b[39m \u001b[39min\u001b[39;00m err:\n\u001b[0;32m    183\u001b[0m         error_data \u001b[39m=\u001b[39m err[\u001b[39m\"\u001b[39m\u001b[39mdata\u001b[39m\u001b[39m\"\u001b[39m]\n\u001b[1;32m--> 184\u001b[0m     \u001b[39mraise\u001b[39;00m ClientError(\n\u001b[0;32m    185\u001b[0m         status_code, err[\u001b[39m\"\u001b[39m\u001b[39mcode\u001b[39m\u001b[39m\"\u001b[39m], err[\u001b[39m\"\u001b[39m\u001b[39mmsg\u001b[39m\u001b[39m\"\u001b[39m], response\u001b[39m.\u001b[39mheaders, error_data\n\u001b[0;32m    186\u001b[0m     )\n\u001b[0;32m    187\u001b[0m \u001b[39mraise\u001b[39;00m ServerError(status_code, response\u001b[39m.\u001b[39mtext)\n",
      "\u001b[1;31mClientError\u001b[0m: (401, -2015, 'Invalid API-key, IP, or permissions for action.', {'Content-Type': 'application/json;charset=UTF-8', 'Content-Length': '70', 'Connection': 'keep-alive', 'Date': 'Wed, 31 Jul 2024 13:46:56 GMT', 'Server': 'nginx', 'x-mbx-uuid': '99e494c2-35a8-461a-b145-c0c93cae1cd8', 'x-mbx-used-weight': '342', 'x-mbx-used-weight-1m': '342', 'Strict-Transport-Security': 'max-age=31536000; includeSubdomains', 'X-Frame-Options': 'SAMEORIGIN', 'X-Xss-Protection': '1; mode=block', 'X-Content-Type-Options': 'nosniff', 'Content-Security-Policy': \"default-src 'self'\", 'X-Content-Security-Policy': \"default-src 'self'\", 'X-WebKit-CSP': \"default-src 'self'\", 'Cache-Control': 'no-cache, no-store, must-revalidate', 'Pragma': 'no-cache', 'Expires': '0', 'X-Cache': 'Error from cloudfront', 'Via': '1.1 1d7fb40804b60d5a9f4cfe1063c9fa1a.cloudfront.net (CloudFront)', 'X-Amz-Cf-Pop': 'HKG54-P1', 'X-Amz-Cf-Id': 'R7KWe8Llu2mq0-GNsczS4uY0hpnW-kYs9ayBkP-63GMFAnqyUoFI9Q=='}, None)"
     ]
    }
   ],
   "source": [
    "print(get_balance_account())"
   ]
  },
  {
   "cell_type": "code",
   "execution_count": null,
   "metadata": {},
   "outputs": [
    {
     "ename": "ClientError",
     "evalue": "(400, -1013, 'Filter failure: LOT_SIZE', {'Content-Type': 'application/json;charset=UTF-8', 'Content-Length': '47', 'Connection': 'keep-alive', 'Date': 'Mon, 29 Jul 2024 12:37:30 GMT', 'Expires': '0', 'Server': 'nginx', 'x-mbx-uuid': '1c30df41-2079-4951-9348-4decda181303', 'x-mbx-used-weight': '65', 'x-mbx-used-weight-1m': '65', 'Strict-Transport-Security': 'max-age=31536000; includeSubdomains', 'X-Frame-Options': 'SAMEORIGIN', 'X-Xss-Protection': '1; mode=block', 'X-Content-Type-Options': 'nosniff', 'Content-Security-Policy': \"default-src 'self'\", 'X-Content-Security-Policy': \"default-src 'self'\", 'X-WebKit-CSP': \"default-src 'self'\", 'Cache-Control': 'no-cache, no-store, must-revalidate', 'Pragma': 'no-cache', 'X-Cache': 'Error from cloudfront', 'Via': '1.1 38bc5b2316e0e5caebb0bd430db7b956.cloudfront.net (CloudFront)', 'X-Amz-Cf-Pop': 'HAN50-P2', 'X-Amz-Cf-Id': 'SpNixDz0G-wRhpd9tHxNUuVx9UjC3sl-tt7Dv0VigUQkFlAoSQevQQ=='}, None)",
     "output_type": "error",
     "traceback": [
      "\u001b[1;31m---------------------------------------------------------------------------\u001b[0m",
      "\u001b[1;31mClientError\u001b[0m                               Traceback (most recent call last)",
      "Cell \u001b[1;32mIn[185], line 20\u001b[0m\n\u001b[0;32m     18\u001b[0m     response \u001b[39m=\u001b[39m client\u001b[39m.\u001b[39mnew_order(\u001b[39m*\u001b[39m\u001b[39m*\u001b[39mparams)\n\u001b[0;32m     19\u001b[0m     \u001b[39mreturn\u001b[39;00m response\n\u001b[1;32m---> 20\u001b[0m \u001b[39mprint\u001b[39m(buy_order(\u001b[39m\"\u001b[39;49m\u001b[39mMATICUSDT\u001b[39;49m\u001b[39m\"\u001b[39;49m,\u001b[39m\"\u001b[39;49m\u001b[39m100\u001b[39;49m\u001b[39m\"\u001b[39;49m))\n",
      "Cell \u001b[1;32mIn[185], line 18\u001b[0m, in \u001b[0;36mbuy_order\u001b[1;34m(symbol, volume)\u001b[0m\n\u001b[0;32m      9\u001b[0m volume \u001b[39m=\u001b[39m \u001b[39mstr\u001b[39m(\u001b[39mround\u001b[39m(\u001b[39mfloat\u001b[39m(volume)\u001b[39m/\u001b[39mget_asset_price(symbol),\u001b[39m4\u001b[39m))\n\u001b[0;32m     11\u001b[0m params \u001b[39m=\u001b[39m {\n\u001b[0;32m     12\u001b[0m     \u001b[39m'\u001b[39m\u001b[39msymbol\u001b[39m\u001b[39m'\u001b[39m: symbol,\n\u001b[0;32m     13\u001b[0m     \u001b[39m'\u001b[39m\u001b[39mside\u001b[39m\u001b[39m'\u001b[39m: \u001b[39m'\u001b[39m\u001b[39mBUY\u001b[39m\u001b[39m'\u001b[39m,  \n\u001b[0;32m     14\u001b[0m     \u001b[39m'\u001b[39m\u001b[39mtype\u001b[39m\u001b[39m'\u001b[39m: \u001b[39m'\u001b[39m\u001b[39mMARKET\u001b[39m\u001b[39m'\u001b[39m,\n\u001b[0;32m     15\u001b[0m     \u001b[39m'\u001b[39m\u001b[39mquantity\u001b[39m\u001b[39m'\u001b[39m: volume\n\u001b[0;32m     16\u001b[0m }\n\u001b[1;32m---> 18\u001b[0m response \u001b[39m=\u001b[39m client\u001b[39m.\u001b[39;49mnew_order(\u001b[39m*\u001b[39;49m\u001b[39m*\u001b[39;49mparams)\n\u001b[0;32m     19\u001b[0m \u001b[39mreturn\u001b[39;00m response\n",
      "File \u001b[1;32mc:\\Users\\Admin\\OneDrive\\Desktop\\Binance\\binance\\spot\\_trade.py:68\u001b[0m, in \u001b[0;36mnew_order\u001b[1;34m(self, symbol, side, type, **kwargs)\u001b[0m\n\u001b[0;32m     66\u001b[0m params \u001b[39m=\u001b[39m {\u001b[39m\"\u001b[39m\u001b[39msymbol\u001b[39m\u001b[39m\"\u001b[39m: symbol, \u001b[39m\"\u001b[39m\u001b[39mside\u001b[39m\u001b[39m\"\u001b[39m: side, \u001b[39m\"\u001b[39m\u001b[39mtype\u001b[39m\u001b[39m\"\u001b[39m: \u001b[39mtype\u001b[39m, \u001b[39m*\u001b[39m\u001b[39m*\u001b[39mkwargs}\n\u001b[0;32m     67\u001b[0m url_path \u001b[39m=\u001b[39m \u001b[39m\"\u001b[39m\u001b[39m/api/v3/order\u001b[39m\u001b[39m\"\u001b[39m\n\u001b[1;32m---> 68\u001b[0m \u001b[39mreturn\u001b[39;00m \u001b[39mself\u001b[39;49m\u001b[39m.\u001b[39;49msign_request(\u001b[39m\"\u001b[39;49m\u001b[39mPOST\u001b[39;49m\u001b[39m\"\u001b[39;49m, url_path, params)\n",
      "File \u001b[1;32mc:\\Users\\Admin\\OneDrive\\Desktop\\Binance\\binance\\api.py:84\u001b[0m, in \u001b[0;36mAPI.sign_request\u001b[1;34m(self, http_method, url_path, payload)\u001b[0m\n\u001b[0;32m     82\u001b[0m query_string \u001b[39m=\u001b[39m \u001b[39mself\u001b[39m\u001b[39m.\u001b[39m_prepare_params(payload)\n\u001b[0;32m     83\u001b[0m payload[\u001b[39m\"\u001b[39m\u001b[39msignature\u001b[39m\u001b[39m\"\u001b[39m] \u001b[39m=\u001b[39m \u001b[39mself\u001b[39m\u001b[39m.\u001b[39m_get_sign(query_string)\n\u001b[1;32m---> 84\u001b[0m \u001b[39mreturn\u001b[39;00m \u001b[39mself\u001b[39;49m\u001b[39m.\u001b[39;49msend_request(http_method, url_path, payload)\n",
      "File \u001b[1;32mc:\\Users\\Admin\\OneDrive\\Desktop\\Binance\\binance\\api.py:119\u001b[0m, in \u001b[0;36mAPI.send_request\u001b[1;34m(self, http_method, url_path, payload)\u001b[0m\n\u001b[0;32m    117\u001b[0m response \u001b[39m=\u001b[39m \u001b[39mself\u001b[39m\u001b[39m.\u001b[39m_dispatch_request(http_method)(\u001b[39m*\u001b[39m\u001b[39m*\u001b[39mparams)\n\u001b[0;32m    118\u001b[0m \u001b[39mself\u001b[39m\u001b[39m.\u001b[39m_logger\u001b[39m.\u001b[39mdebug(\u001b[39m\"\u001b[39m\u001b[39mraw response from server:\u001b[39m\u001b[39m\"\u001b[39m \u001b[39m+\u001b[39m response\u001b[39m.\u001b[39mtext)\n\u001b[1;32m--> 119\u001b[0m \u001b[39mself\u001b[39;49m\u001b[39m.\u001b[39;49m_handle_exception(response)\n\u001b[0;32m    121\u001b[0m \u001b[39mtry\u001b[39;00m:\n\u001b[0;32m    122\u001b[0m     data \u001b[39m=\u001b[39m response\u001b[39m.\u001b[39mjson()\n",
      "File \u001b[1;32mc:\\Users\\Admin\\OneDrive\\Desktop\\Binance\\binance\\api.py:184\u001b[0m, in \u001b[0;36mAPI._handle_exception\u001b[1;34m(self, response)\u001b[0m\n\u001b[0;32m    182\u001b[0m     \u001b[39mif\u001b[39;00m \u001b[39m\"\u001b[39m\u001b[39mdata\u001b[39m\u001b[39m\"\u001b[39m \u001b[39min\u001b[39;00m err:\n\u001b[0;32m    183\u001b[0m         error_data \u001b[39m=\u001b[39m err[\u001b[39m\"\u001b[39m\u001b[39mdata\u001b[39m\u001b[39m\"\u001b[39m]\n\u001b[1;32m--> 184\u001b[0m     \u001b[39mraise\u001b[39;00m ClientError(\n\u001b[0;32m    185\u001b[0m         status_code, err[\u001b[39m\"\u001b[39m\u001b[39mcode\u001b[39m\u001b[39m\"\u001b[39m], err[\u001b[39m\"\u001b[39m\u001b[39mmsg\u001b[39m\u001b[39m\"\u001b[39m], response\u001b[39m.\u001b[39mheaders, error_data\n\u001b[0;32m    186\u001b[0m     )\n\u001b[0;32m    187\u001b[0m \u001b[39mraise\u001b[39;00m ServerError(status_code, response\u001b[39m.\u001b[39mtext)\n",
      "\u001b[1;31mClientError\u001b[0m: (400, -1013, 'Filter failure: LOT_SIZE', {'Content-Type': 'application/json;charset=UTF-8', 'Content-Length': '47', 'Connection': 'keep-alive', 'Date': 'Mon, 29 Jul 2024 12:37:30 GMT', 'Expires': '0', 'Server': 'nginx', 'x-mbx-uuid': '1c30df41-2079-4951-9348-4decda181303', 'x-mbx-used-weight': '65', 'x-mbx-used-weight-1m': '65', 'Strict-Transport-Security': 'max-age=31536000; includeSubdomains', 'X-Frame-Options': 'SAMEORIGIN', 'X-Xss-Protection': '1; mode=block', 'X-Content-Type-Options': 'nosniff', 'Content-Security-Policy': \"default-src 'self'\", 'X-Content-Security-Policy': \"default-src 'self'\", 'X-WebKit-CSP': \"default-src 'self'\", 'Cache-Control': 'no-cache, no-store, must-revalidate', 'Pragma': 'no-cache', 'X-Cache': 'Error from cloudfront', 'Via': '1.1 38bc5b2316e0e5caebb0bd430db7b956.cloudfront.net (CloudFront)', 'X-Amz-Cf-Pop': 'HAN50-P2', 'X-Amz-Cf-Id': 'SpNixDz0G-wRhpd9tHxNUuVx9UjC3sl-tt7Dv0VigUQkFlAoSQevQQ=='}, None)"
     ]
    }
   ],
   "source": [
    "def buy_order(symbol,volume):\n",
    "\n",
    "    def get_asset_price(asset):\n",
    "        url = f'https://api.binance.com/api/v3/ticker/price?symbol={asset}'\n",
    "        response = requests.get(url)\n",
    "        data = response.json()\n",
    "        return float(data.get('price', 0))\n",
    "    \n",
    "    volume = str(round(float(volume)/get_asset_price(symbol),4))\n",
    "\n",
    "    params = {\n",
    "        'symbol': symbol,\n",
    "        'side': 'BUY',  \n",
    "        'type': 'MARKET',\n",
    "        'quantity': volume\n",
    "    }\n",
    "    \n",
    "    response = client.new_order(**params)\n",
    "    return response\n",
    "print(buy_order(\"MATICUSDT\",\"100\"))"
   ]
  },
  {
   "cell_type": "code",
   "execution_count": null,
   "metadata": {},
   "outputs": [
    {
     "name": "stdout",
     "output_type": "stream",
     "text": [
      "   Mã Token  Số lượng token  Giá trị $\n",
      "0      USDT        760.9591       0.00\n",
      "1     LDBNB          0.0024       1.42\n",
      "2     LDETH          0.0001       0.34\n",
      "3       SOL          0.5210     100.01\n",
      "4     LDFXS         25.0899      58.56\n",
      "5     LDLDO         36.5791       0.00\n",
      "6      LDOP         33.9688      59.24\n",
      "7     LDRAD         45.9196      59.37\n",
      "8    LDLUNC          0.0015       0.00\n",
      "9    LDRARE        701.2284      61.29\n",
      "10    LDRIF        626.4942      72.11\n",
      "11  LDPOLYX          1.7586       0.49\n",
      "12   LDBICO        334.6331     105.41\n",
      "13      LDT       4610.1916     114.52\n",
      "14   LDHIFI         90.5962      47.36\n",
      "15    LDSUI         75.1999      58.30\n",
      "16  LDPIXEL          0.0312       0.01\n",
      "17   LDSTRK        109.0741      59.88\n",
      "18   LDBOME       6791.4200      72.14\n",
      "19      LDW        868.7914     250.30\n",
      "20   BANANA          0.0001       0.01\n"
     ]
    }
   ],
   "source": [
    "print(get_balance_account())"
   ]
  },
  {
   "cell_type": "code",
   "execution_count": null,
   "metadata": {},
   "outputs": [
    {
     "name": "stdout",
     "output_type": "stream",
     "text": [
      "0.518\n",
      "{'symbol': 'SOLUSDT', 'orderId': 6892429677, 'orderListId': -1, 'clientOrderId': 'hs7OopS2PEhrWsLH4TN0cP', 'transactTime': 1722256513948, 'price': '0.00000000', 'origQty': '0.51800000', 'executedQty': '0.51800000', 'cummulativeQuoteQty': '99.35240000', 'status': 'FILLED', 'timeInForce': 'GTC', 'type': 'MARKET', 'side': 'SELL', 'workingTime': 1722256513948, 'fills': [{'price': '191.80000000', 'qty': '0.51800000', 'commission': '0.09935240', 'commissionAsset': 'USDT', 'tradeId': 618342481}], 'selfTradePreventionMode': 'EXPIRE_MAKER'}\n"
     ]
    }
   ],
   "source": [
    "\n",
    "def sell_order(symbol):\n",
    "    df = get_balance_account()\n",
    "    quantity = df[df['Mã Token'] == symbol.replace(\"USDT\",\"\")]['Số lượng token'].values[0]\n",
    "    quantity = quantity[:-3]\n",
    "    for i in range(1,5):\n",
    "        volume = volume[:-i]\n",
    "        try:\n",
    "            params = {\n",
    "                'symbol': symbol,\n",
    "                'side': 'SELL',  \n",
    "                'type': 'MARKET',\n",
    "                \"quantity\" : quantity\n",
    "            }\n",
    "            \n",
    "            response = client.new_order(**params)\n",
    "            print(f\"\\n Đặt lệnh bán thành công {symbol} với khối lượng {volume} coin.\")\n",
    "            break\n",
    "        except : pass\n",
    "print(sell_order(\"MATICUSDT\"))"
   ]
  }
 ],
 "metadata": {
  "kernelspec": {
   "display_name": "Python 3",
   "language": "python",
   "name": "python3"
  },
  "language_info": {
   "codemirror_mode": {
    "name": "ipython",
    "version": 3
   },
   "file_extension": ".py",
   "mimetype": "text/x-python",
   "name": "python",
   "nbconvert_exporter": "python",
   "pygments_lexer": "ipython3",
   "version": "3.11.2"
  },
  "orig_nbformat": 4
 },
 "nbformat": 4,
 "nbformat_minor": 2
}
